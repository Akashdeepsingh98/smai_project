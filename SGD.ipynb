{
  "nbformat": 4,
  "nbformat_minor": 0,
  "metadata": {
    "kernelspec": {
      "name": "python385jvsc74a57bd0d6eaf37a4871841d72979bdfa4750203399c789df0e8329ffc535f57efe1a852",
      "display_name": "Python 3.8.5 64-bit (conda)"
    },
    "language_info": {
      "codemirror_mode": {
        "name": "ipython",
        "version": 3
      },
      "file_extension": ".py",
      "mimetype": "text/x-python",
      "name": "python",
      "nbconvert_exporter": "python",
      "pygments_lexer": "ipython3",
      "version": "3.8.5-final"
    },
    "colab": {
      "name": "SGD.ipynb",
      "provenance": [],
      "collapsed_sections": []
    }
  },
  "cells": [
    {
      "cell_type": "markdown",
      "metadata": {
        "id": "TrGI3_Bcp4KR"
      },
      "source": [
        "\n",
        "1. You are provided the titanic dataset. Load the dataset and perform splitting into training and test sets with 70:30 ratio randomly using test train split.\n",
        "2. Use the Logistic regression created from scratch (from the prev question) in this question as well.\n",
        "3. Data cleaning plays a major role in this question. Report all the methods used by you in the ipynb.\n",
        "\n",
        "--> \n",
        "\n",
        "i. Check for missing values\n",
        "\n",
        "ii. Drop Columns & Handle missing values\n",
        "\n",
        "iii. Create dummies for categorical features\n",
        "\n",
        "you are free to perform other data cleaning to improve your results.\n",
        "\n",
        "\n",
        "\n",
        "4. Report accuracy score, Confusion matrix, heat map, classifiaction report and any other metrics you feel useful."
      ]
    },
    {
      "cell_type": "markdown",
      "metadata": {
        "id": "1SjTZ3Wqp4KY"
      },
      "source": [
        "dataset link : \n",
        "https://iiitaphyd-my.sharepoint.com/:f:/g/personal/apurva_jadhav_students_iiit_ac_in/Eictt5_qmoxNqezgQQiMWeIBph4sxlfA6jWAJNPnV2SF9Q?e=mQmYN0 \n",
        "\n",
        "(titanic.csv)\n"
      ]
    },
    {
      "cell_type": "code",
      "metadata": {
        "colab": {
          "base_uri": "https://localhost:8080/"
        },
        "id": "EbiclNyjjygQ",
        "outputId": "1a69d76c-a954-4091-b904-566bb7978077"
      },
      "source": [
        "!pip install mpi4py"
      ],
      "execution_count": null,
      "outputs": [
        {
          "output_type": "stream",
          "text": [
            "Collecting mpi4py\n",
            "\u001b[?25l  Downloading https://files.pythonhosted.org/packages/ec/8f/bbd8de5ba566dd77e408d8136e2bab7fdf2b97ce06cab830ba8b50a2f588/mpi4py-3.0.3.tar.gz (1.4MB)\n",
            "\u001b[K     |████████████████████████████████| 1.4MB 6.3MB/s \n",
            "\u001b[?25hBuilding wheels for collected packages: mpi4py\n",
            "  Building wheel for mpi4py (setup.py) ... \u001b[?25l\u001b[?25hdone\n",
            "  Created wheel for mpi4py: filename=mpi4py-3.0.3-cp37-cp37m-linux_x86_64.whl size=2065177 sha256=e0aca3805c0f7c0d367f48b929c251f77f575dd4167eb5676d08cb24f23c7266\n",
            "  Stored in directory: /root/.cache/pip/wheels/18/e0/86/2b713dd512199096012ceca61429e12b960888de59818871d6\n",
            "Successfully built mpi4py\n",
            "Installing collected packages: mpi4py\n",
            "Successfully installed mpi4py-3.0.3\n"
          ],
          "name": "stdout"
        }
      ]
    },
    {
      "cell_type": "code",
      "metadata": {
        "colab": {
          "base_uri": "https://localhost:8080/",
          "height": 299
        },
        "id": "UBHmNx3HjxZy",
        "outputId": "ded56c09-d71d-4e7f-c688-543cc4ca7dc9"
      },
      "source": [
        "from mpi4py import MPI\n",
        "\n",
        "comm = MPI.COMM_WORLD\n",
        "rank = comm.Get_rank()\n",
        "\n",
        "if rank == 0:\n",
        "    data = {'a': 7, 'b': 3.14}\n",
        "    comm.send(data, dest=1, tag=11)\n",
        "elif rank == 1:\n",
        "    data = comm.recv(source=0, tag=11)"
      ],
      "execution_count": null,
      "outputs": [
        {
          "output_type": "error",
          "ename": "Exception",
          "evalue": "ignored",
          "traceback": [
            "\u001b[0;31m---------------------------------------------------------------------------\u001b[0m",
            "\u001b[0;31mException\u001b[0m                                 Traceback (most recent call last)",
            "\u001b[0;32m<ipython-input-3-42f2c14485fe>\u001b[0m in \u001b[0;36m<module>\u001b[0;34m()\u001b[0m\n\u001b[1;32m      6\u001b[0m \u001b[0;32mif\u001b[0m \u001b[0mrank\u001b[0m \u001b[0;34m==\u001b[0m \u001b[0;36m0\u001b[0m\u001b[0;34m:\u001b[0m\u001b[0;34m\u001b[0m\u001b[0;34m\u001b[0m\u001b[0m\n\u001b[1;32m      7\u001b[0m     \u001b[0mdata\u001b[0m \u001b[0;34m=\u001b[0m \u001b[0;34m{\u001b[0m\u001b[0;34m'a'\u001b[0m\u001b[0;34m:\u001b[0m \u001b[0;36m7\u001b[0m\u001b[0;34m,\u001b[0m \u001b[0;34m'b'\u001b[0m\u001b[0;34m:\u001b[0m \u001b[0;36m3.14\u001b[0m\u001b[0;34m}\u001b[0m\u001b[0;34m\u001b[0m\u001b[0;34m\u001b[0m\u001b[0m\n\u001b[0;32m----> 8\u001b[0;31m     \u001b[0mcomm\u001b[0m\u001b[0;34m.\u001b[0m\u001b[0msend\u001b[0m\u001b[0;34m(\u001b[0m\u001b[0mdata\u001b[0m\u001b[0;34m,\u001b[0m \u001b[0mdest\u001b[0m\u001b[0;34m=\u001b[0m\u001b[0;36m1\u001b[0m\u001b[0;34m,\u001b[0m \u001b[0mtag\u001b[0m\u001b[0;34m=\u001b[0m\u001b[0;36m11\u001b[0m\u001b[0;34m)\u001b[0m\u001b[0;34m\u001b[0m\u001b[0;34m\u001b[0m\u001b[0m\n\u001b[0m\u001b[1;32m      9\u001b[0m \u001b[0;32melif\u001b[0m \u001b[0mrank\u001b[0m \u001b[0;34m==\u001b[0m \u001b[0;36m1\u001b[0m\u001b[0;34m:\u001b[0m\u001b[0;34m\u001b[0m\u001b[0;34m\u001b[0m\u001b[0m\n\u001b[1;32m     10\u001b[0m     \u001b[0mdata\u001b[0m \u001b[0;34m=\u001b[0m \u001b[0mcomm\u001b[0m\u001b[0;34m.\u001b[0m\u001b[0mrecv\u001b[0m\u001b[0;34m(\u001b[0m\u001b[0msource\u001b[0m\u001b[0;34m=\u001b[0m\u001b[0;36m0\u001b[0m\u001b[0;34m,\u001b[0m \u001b[0mtag\u001b[0m\u001b[0;34m=\u001b[0m\u001b[0;36m11\u001b[0m\u001b[0;34m)\u001b[0m\u001b[0;34m\u001b[0m\u001b[0;34m\u001b[0m\u001b[0m\n",
            "\u001b[0;32mmpi4py/MPI/Comm.pyx\u001b[0m in \u001b[0;36mmpi4py.MPI.Comm.send\u001b[0;34m()\u001b[0m\n",
            "\u001b[0;32mmpi4py/MPI/msgpickle.pxi\u001b[0m in \u001b[0;36mmpi4py.MPI.PyMPI_send\u001b[0;34m()\u001b[0m\n",
            "\u001b[0;31mException\u001b[0m: MPI_ERR_RANK: invalid rank"
          ]
        }
      ]
    },
    {
      "cell_type": "code",
      "metadata": {
        "colab": {
          "base_uri": "https://localhost:8080/"
        },
        "id": "s1hRrwcyp4KZ",
        "outputId": "36c54ca6-b593-4681-9272-2b07f57afb14"
      },
      "source": [
        "import pandas as pd\n",
        "import numpy as np\n",
        "import matplotlib.pyplot as plt\n",
        "from sklearn.model_selection import train_test_split\n",
        "df = pd.read_csv('/content/drive/MyDrive/Colab Notebooks/titanic.csv')\n",
        "\n",
        "#begin preprocessing\n",
        "cols = ['Name', 'Ticket', 'Cabin']\n",
        "df = df.drop(cols, axis=1)\n",
        "\n",
        "df['Sex'] = df['Sex'].map({'male':0, 'female':1})\n",
        "df['Embarked'] = df['Embarked'].map({'C':0, 'Q':1, 'S':2})\n",
        "df['Embarked'] = df['Embarked'].fillna(2)\n",
        "df['Age'] = df['Age'].interpolate()\n",
        "print(df.columns)\n",
        "cols=['Pclass','Sex','Age','SibSp','Parch','Fare','Embarked']\n",
        "X=df[cols]\n",
        "y=df['Survived']\n",
        "X_train, X_test, y_train, y_test = train_test_split(X, y, test_size=0.3)\n"
      ],
      "execution_count": null,
      "outputs": [
        {
          "output_type": "stream",
          "text": [
            "Index(['PassengerId', 'Survived', 'Pclass', 'Sex', 'Age', 'SibSp', 'Parch',\n",
            "       'Fare', 'Embarked'],\n",
            "      dtype='object')\n"
          ],
          "name": "stdout"
        }
      ]
    },
    {
      "cell_type": "code",
      "metadata": {
        "colab": {
          "base_uri": "https://localhost:8080/",
          "height": 330
        },
        "id": "83aSLWpUp4Ka",
        "outputId": "6c34dbd1-49db-4c0b-e9e1-e148442a40d1"
      },
      "source": [
        "class LogisticRegression_custom:\n",
        "    \n",
        "    def __init__(self,learning_rate=0.05,num_iterations=10000):\n",
        "        self.learning_rate=learning_rate\n",
        "        self.weights=None\n",
        "        self.bias=None\n",
        "        self.num_iterations=num_iterations\n",
        "        self.accs = []\n",
        "    def fit(self,X,y):\n",
        "        num_samples,num_features=X.shape\n",
        "        self.weights=np.ones(num_features)\n",
        "        self.bias=0\n",
        "        \n",
        "        #gradient descent\n",
        "        convergence=False\n",
        "        #while(convergence is not True):\n",
        "        for i in range(self.num_iterations):\n",
        "        #Wx+B\n",
        "            linear_model=np.dot(X,self.weights)+self.bias\n",
        "            y_pred=self.sigmoid(linear_model)\n",
        "            \n",
        "            dw=(1/num_samples)*np.dot(X.T,(y_pred-y))\n",
        "            #db=(1/num_samples)*np.sum(y_pred-y)\n",
        "            old_wts=self.weights\n",
        "            old_bias=self.bias\n",
        "            self.weights=self.weights-self.learning_rate*dw\n",
        "            #self.bias=self.bias-self.learning_rate*db            \n",
        "            diff_weights=np.sum(old_wts-self.weights)\n",
        "            \n",
        "            y_pred[y_pred>0.5] = 1\n",
        "            y_pred[y_pred<=0.5] = 0\n",
        "            self.accs.append(accuracy_score(y, y_pred))\n",
        "            #print(diff_weights)\n",
        "            #if(diff_weights<abs(0.000001)):\n",
        "            #    convergence=True\n",
        "            \n",
        "    def predict(self,X):\n",
        "        linear_model=np.dot(X,self.weights)+self.bias\n",
        "        y_pred=self.sigmoid(linear_model)\n",
        "        predictions=[]\n",
        "        for i in y_pred:\n",
        "            if(i>0.5):\n",
        "                predictions.append(1)\n",
        "            else:\n",
        "                predictions.append(0)\n",
        "        return predictions\n",
        "\n",
        "    def sigmoid(self,x):\n",
        "        return(1/(1+np.exp(-x)))\n",
        "    \n",
        "    def plot_accs(self, step_size=500):\n",
        "      x_data = []\n",
        "      y_data = []\n",
        "      for i in range(1,self.num_iterations+1,step_size):\n",
        "        x_data.append(i)\n",
        "        y_data.append(self.accs[i-1])\n",
        "      x_data.append(self.num_iterations)\n",
        "      y_data.append(self.accs[-1])\n",
        "      plt.plot(x_data, y_data)\n",
        "      plt.xticks(x_data)\n",
        "      plt.xlabel('Number of iterations')\n",
        "      plt.ylabel('Accuracy')\n",
        "      plt.show()\n",
        "    \n",
        "if __name__ == \"__main__\":\n",
        "    from sklearn.metrics import accuracy_score\n",
        "    from sklearn.metrics import confusion_matrix\n",
        "    xcla=LogisticRegression_custom()\n",
        "    xcla.fit(X_train,y_train)\n",
        "    res=xcla.predict(X_test)\n",
        "    print(\"Normal gradient descent\",accuracy_score(res,y_test))\n",
        "    print(confusion_matrix(y_test, res))\n",
        "    xcla.plot_accs(1000)"
      ],
      "execution_count": null,
      "outputs": [
        {
          "output_type": "stream",
          "text": [
            "Normal gradient descent 0.7350746268656716\n",
            "[[160  12]\n",
            " [ 59  37]]\n"
          ],
          "name": "stdout"
        },
        {
          "output_type": "display_data",
          "data": {
            "image/png": "[encoded data removed]",
            "text/plain": [
              "<Figure size 432x288 with 1 Axes>"
            ]
          },
          "metadata": {
            "tags": [],
            "needs_background": "light"
          }
        }
      ]
    },
    {
      "cell_type": "code",
      "metadata": {
        "colab": {
          "base_uri": "https://localhost:8080/",
          "height": 330
        },
        "id": "D1CqHbcwp4Kb",
        "outputId": "326786f2-fbd7-4221-8f7e-bc7b62ba69a1"
      },
      "source": [
        "#SIGNSGD\n",
        "class LogisticRegression_custom:\n",
        "    \n",
        "    def __init__(self,learning_rate=0.05,num_iterations=10000):\n",
        "        self.learning_rate=learning_rate\n",
        "        self.weights=None\n",
        "        self.bias=None\n",
        "        self.num_iterations=num_iterations\n",
        "        self.accs = []\n",
        "        \n",
        "    def batchgradient(self,X,y):\n",
        "        num_samples,num_features=X.shape\n",
        "        linear_model=np.dot(X,self.weights)\n",
        "        y_pred=self.sigmoid(linear_model)\n",
        "        dw=(1/num_samples)*np.dot(X.T,(y_pred-y))\n",
        "        #print(dw)\n",
        "        return dw\n",
        "    \n",
        "    def fit(self,X,y):\n",
        "        num_samples,num_features=X.shape\n",
        "        self.weights=np.ones(num_features)\n",
        "        self.bias=0\n",
        "        \n",
        "        #gradient descent\n",
        "        convergence=False\n",
        "        X, y = shuffle(X, y)\n",
        "        batches=int(math.floor((len(X)/128)))\n",
        "        #while(convergence is not True):\n",
        "        for i in range(self.num_iterations):\n",
        "        #Wx+B\n",
        "            linear_model=np.dot(X,self.weights)\n",
        "            y_pred=self.sigmoid(linear_model)\n",
        "            gradient=0\n",
        "            vote=[0,0,0,0,0,0,0]\n",
        "            for b in range(batches):\n",
        "                if (b!=batches-1):\n",
        "                    gradient+=self.batchgradient(X[b*128:((b+1)*128)],y[b*128:((b+1)*128)])\n",
        "                else:\n",
        "                    gradient+=self.batchgradient(X[b*128:len(X)],y[b*128:len(X)])\n",
        "                #print(gradient)\n",
        "                for i in range(len(vote)):\n",
        "                    if(gradient[i]<0):\n",
        "                        vote[i]+=-1\n",
        "                    else:\n",
        "                        vote[i]=+1\n",
        "            \n",
        "            dw=gradient/batches\n",
        "            for i in range(len(vote)):\n",
        "                if(vote[i]<0):\n",
        "                    if(dw[i]>=0):\n",
        "                        dw[i]=(dw[i]*-1)\n",
        "                else:\n",
        "                    if(dw[i]<=0):\n",
        "                        dw[i]=dw[i]*-1\n",
        "                \n",
        "                    \n",
        "            old_wts=self.weights\n",
        "            #old_bias=self.bias\n",
        "            \n",
        "            self.weights=self.weights-self.learning_rate*dw\n",
        "            #self.bias=self.bias-self.learning_rate*db            \n",
        "            \n",
        "            diff_weights=np.sum(old_wts-self.weights)\n",
        "\n",
        "            y_pred[y_pred>0.5] = 1\n",
        "            y_pred[y_pred<=0.5] = 0\n",
        "            self.accs.append(accuracy_score(y, y_pred))\n",
        "            \n",
        "            #print(diff_weights)\n",
        "            #if(diff_weights<abs(0.000001)):\n",
        "            #    convergence=True\n",
        "            \n",
        "    def predict(self,X):\n",
        "        linear_model=np.dot(X,self.weights)+self.bias\n",
        "        y_pred=self.sigmoid(linear_model)\n",
        "        predictions=[]\n",
        "        for i in y_pred:\n",
        "            if(i>0.5):\n",
        "                predictions.append(1)\n",
        "            else:\n",
        "                predictions.append(0)\n",
        "        return predictions\n",
        "\n",
        "    def sigmoid(self,x):\n",
        "        return(1/(1+np.exp(-x)))\n",
        "\n",
        "    def plot_accs(self, step_size=500):\n",
        "      x_data = []\n",
        "      y_data = []\n",
        "      for i in range(1,self.num_iterations+1,step_size):\n",
        "        x_data.append(i)\n",
        "        y_data.append(self.accs[i-1])\n",
        "      x_data.append(self.num_iterations)\n",
        "      y_data.append(self.accs[-1])\n",
        "      plt.plot(x_data, y_data)\n",
        "      plt.xticks(x_data)\n",
        "      plt.xlabel('Number of iterations')\n",
        "      plt.ylabel('Accuracy')\n",
        "      plt.show()\n",
        "    \n",
        "if __name__ == \"__main__\":\n",
        "    from sklearn.metrics import accuracy_score\n",
        "    from sklearn.metrics import confusion_matrix\n",
        "    from sklearn.utils import shuffle\n",
        "    import math\n",
        "    xcla=LogisticRegression_custom()\n",
        "    xcla.fit(X_train,y_train)\n",
        "    res=xcla.predict(X_test)\n",
        "    print(\"Sign SGD\",accuracy_score(res,y_test))\n",
        "    print(confusion_matrix(y_test, res))\n",
        "    xcla.plot_accs(1000)"
      ],
      "execution_count": null,
      "outputs": [
        {
          "output_type": "stream",
          "text": [
            "Sign SGD 0.7313432835820896\n",
            "[[160  12]\n",
            " [ 60  36]]\n"
          ],
          "name": "stdout"
        },
        {
          "output_type": "display_data",
          "data": {
            "image/png": "[encoded data removed]",
            "text/plain": [
              "<Figure size 432x288 with 1 Axes>"
            ]
          },
          "metadata": {
            "tags": [],
            "needs_background": "light"
          }
        }
      ]
    },
    {
      "cell_type": "code",
      "metadata": {
        "colab": {
          "base_uri": "https://localhost:8080/"
        },
        "id": "_H1sra2ErFF2",
        "outputId": "d3a30298-2679-4585-af29-cad1fd6e7f2b"
      },
      "source": [
        "from google.colab import drive\n",
        "drive.mount('/content/drive')"
      ],
      "execution_count": null,
      "outputs": [
        {
          "output_type": "stream",
          "text": [
            "Mounted at /content/drive\n"
          ],
          "name": "stdout"
        }
      ]
    },
    {
      "cell_type": "code",
      "metadata": {
        "id": "29hCSBNyp4Kc"
      },
      "source": [],
      "execution_count": null,
      "outputs": []
    }
  ]
}